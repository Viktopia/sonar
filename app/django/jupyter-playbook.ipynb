{
 "cells": [
  {
   "cell_type": "code",
   "execution_count": null,
   "metadata": {},
   "outputs": [],
   "source": [
    "# Get 'em imports\n",
    "from ble.models import Device, ScanRecord\n",
    "from analytics.models import BleReport\n",
    "from datetime import datetime, timedelta\n",
    "from django.conf import settings\n",
    "from django.utils import timezone\n",
    "from django_pandas.io import read_frame\n",
    "import plotly.express as px"
   ]
  },
  {
   "cell_type": "code",
   "execution_count": null,
   "metadata": {},
   "outputs": [],
   "source": [
    "# Define some variables\n",
    "\n",
    "# Look at records for the last seven days\n",
    "cut_off = timezone.now() - timedelta(days=7)"
   ]
  },
  {
   "cell_type": "code",
   "execution_count": null,
   "metadata": {},
   "outputs": [],
   "source": [
    "# Get the top 10 devices\n",
    "qs = Device.objects.filter(\n",
    "    device_fingerprint__isnull=False,\n",
    "    seen_last__gte=cut_off\n",
    ").exclude(device_fingerprint__exact='').order_by('-seen_counter')[:10]\n",
    "\n",
    "# Generate a Pandas dataframe\n",
    "df = read_frame(qs, fieldnames=['device_fingerprint', 'device_manufacturer', 'seen_counter', 'seen_last', 'ignore'])\n",
    "df"
   ]
  },
  {
   "cell_type": "code",
   "execution_count": null,
   "metadata": {},
   "outputs": [],
   "source": [
    "# Same as above, but filter out all ignored devices\n",
    "qs = Device.objects.filter(\n",
    "    device_fingerprint__isnull=False,\n",
    "    ignore=False,\n",
    "    seen_last__gte=cut_off\n",
    ").exclude(device_fingerprint__exact='').order_by('-seen_counter')[:10]\n",
    "\n",
    "# Generate a Pandas dataframe\n",
    "df = read_frame(qs, fieldnames=['device_fingerprint', 'device_manufacturer', 'seen_counter', 'seen_last', 'ignore'])\n",
    "df"
   ]
  },
  {
   "cell_type": "code",
   "execution_count": null,
   "metadata": {},
   "outputs": [],
   "source": [
    "# Get all devices with a device fingerprint, seen since the cut-off\n",
    "qs = Device.objects.filter(\n",
    "    device_fingerprint__isnull=False,\n",
    "    seen_last__gte=cut_off\n",
    ").exclude(device_fingerprint__exact='')\n",
    "\n",
    "# Generate a Pandas dataframe\n",
    "df = read_frame(qs, fieldnames=['device_fingerprint', 'device_manufacturer', 'seen_counter'])\n",
    "\n",
    "# Visualize the result using Plotly\n",
    "fig = px.bar(df, x=\"device_manufacturer\", y=\"seen_counter\", color=\"device_fingerprint\")\n",
    "fig.show()"
   ]
  },
  {
   "cell_type": "code",
   "execution_count": null,
   "metadata": {
    "scrolled": true
   },
   "outputs": [],
   "source": []
  },
  {
   "cell_type": "code",
   "execution_count": null,
   "metadata": {},
   "outputs": [],
   "source": []
  },
  {
   "cell_type": "code",
   "execution_count": null,
   "metadata": {},
   "outputs": [],
   "source": []
  },
  {
   "cell_type": "code",
   "execution_count": null,
   "metadata": {},
   "outputs": [],
   "source": []
  }
 ],
 "metadata": {
  "kernelspec": {
   "display_name": "Django Shell-Plus",
   "language": "python",
   "name": "django_extensions"
  },
  "language_info": {
   "codemirror_mode": {
    "name": "ipython",
    "version": 3
   },
   "file_extension": ".py",
   "mimetype": "text/x-python",
   "name": "python",
   "nbconvert_exporter": "python",
   "pygments_lexer": "ipython3",
   "version": "3.7.3"
  }
 },
 "nbformat": 4,
 "nbformat_minor": 4
}
